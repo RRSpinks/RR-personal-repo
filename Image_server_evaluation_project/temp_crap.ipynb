{
 "cells": [
  {
   "attachments": {},
   "cell_type": "markdown",
   "metadata": {},
   "source": [
    "Temp #1:"
   ]
  },
  {
   "cell_type": "code",
   "execution_count": 1,
   "metadata": {},
   "outputs": [
    {
     "name": "stdout",
     "output_type": "stream",
     "text": [
      "2022-06-06 02:58:27.883000+00:00\n"
     ]
    }
   ],
   "source": [
    "from datetime import datetime\n",
    "\n",
    "date_string = \"2022-06-06T02:58:27.883Z\"\n",
    "date_string = date_string.replace(\"Z\", \"+00:00\")\n",
    "\n",
    "dt = datetime.fromisoformat(date_string)\n",
    "print(dt)\n"
   ]
  },
  {
   "attachments": {},
   "cell_type": "markdown",
   "metadata": {},
   "source": [
    "Temp #2:"
   ]
  },
  {
   "cell_type": "code",
   "execution_count": 2,
   "metadata": {},
   "outputs": [
    {
     "name": "stdout",
     "output_type": "stream",
     "text": [
      "                   datetime\n",
      "0  2022-06-06T02:58:27.883Z\n",
      "1  2022-06-07T12:34:56.123Z\n",
      "2  2022-06-08T22:22:22.222Z\n",
      "                   datetime                  parsed_datetime\n",
      "0  2022-06-06T02:58:27.883Z 2022-06-06 02:58:27.883000+00:00\n",
      "1  2022-06-07T12:34:56.123Z 2022-06-07 12:34:56.123000+00:00\n",
      "2  2022-06-08T22:22:22.222Z 2022-06-08 22:22:22.222000+00:00\n"
     ]
    }
   ],
   "source": [
    "import pandas as pd\n",
    "\n",
    "data = {\n",
    "    'datetime': [\n",
    "        \"2022-06-06T02:58:27.883Z\",\n",
    "        \"2022-06-07T12:34:56.123Z\",\n",
    "        \"2022-06-08T22:22:22.222Z\"\n",
    "    ]\n",
    "}\n",
    "\n",
    "df = pd.DataFrame(data)\n",
    "print(df)\n",
    "\n",
    "from datetime import datetime\n",
    "\n",
    "def parse_datetime(date_string):\n",
    "    try:\n",
    "        # Try parsing the original ISO 8601 format\n",
    "        date_string = date_string.replace(\"Z\", \"+00:00\")\n",
    "        return datetime.fromisoformat(date_string)\n",
    "    except ValueError:\n",
    "        # If the original format is not valid, try the custom format\n",
    "        return datetime.strptime(date_string, '%Y-%m-%d %H:%M:%S.%f %z')\n",
    "\n",
    "df['parsed_datetime'] = df['datetime'].apply(parse_datetime)\n",
    "print(df)\n"
   ]
  },
  {
   "attachments": {},
   "cell_type": "markdown",
   "metadata": {},
   "source": [
    "Temp #3:"
   ]
  },
  {
   "cell_type": "code",
   "execution_count": 13,
   "metadata": {},
   "outputs": [
    {
     "name": "stdout",
     "output_type": "stream",
     "text": [
      "                   datetime        date    weekday\n",
      "0  2022-06-06T02:58:27.883Z  2022-06-06     Monday\n",
      "1  2022-06-07T12:34:56.123Z  2022-06-07    Tuesday\n",
      "2  2022-06-08T22:22:22.222Z  2022-06-08  Wednesday\n"
     ]
    }
   ],
   "source": [
    "from datetime import datetime\n",
    "\n",
    "data = {\n",
    "    'datetime': [\n",
    "        \"2022-06-06T02:58:27.883Z\",\n",
    "        \"2022-06-07T12:34:56.123Z\",\n",
    "        \"2022-06-08T22:22:22.222Z\"\n",
    "    ]\n",
    "}\n",
    "df = pd.DataFrame(data)\n",
    "\n",
    "def parse_datetime(date_string):\n",
    "    try:\n",
    "        # Try parsing the original ISO 8601 format\n",
    "        date_string = date_string.replace(\"Z\", \"+00:00\")\n",
    "        dt = datetime.fromisoformat(date_string)\n",
    "    except ValueError:\n",
    "        # If the original format is not valid, try the custom format\n",
    "        dt = datetime.strptime(date_string, '%Y-%m-%d %H:%M:%S.%f %z')\n",
    "    \n",
    "    weekday = dt.strftime('%A')\n",
    "    date = dt.date()\n",
    "    return date, weekday\n",
    "\n",
    "df[['date', 'weekday']] = df['datetime'].apply(parse_datetime).apply(pd.Series)\n",
    "\n",
    "print(df)"
   ]
  },
  {
   "attachments": {},
   "cell_type": "markdown",
   "metadata": {},
   "source": [
    "Temp #4"
   ]
  },
  {
   "cell_type": "code",
   "execution_count": 21,
   "metadata": {},
   "outputs": [
    {
     "name": "stdout",
     "output_type": "stream",
     "text": [
      "JOB DF\n",
      "   id     status  template_id  accession_number  attempts  \\\n",
      "0  20  completed          100            512693         2   \n",
      "1  21  completed          100            512695         2   \n",
      "\n",
      "                      created_at  \n",
      "0  2022-06-06 12:28:27.883 +0930  \n",
      "1  2022-06-06 12:34:46.393 +0930  \n",
      "FEATURE DF\n",
      "    id             name  modality_id         code  title_set_id  deleted  \\\n",
      "0  325  Facet injection            3          NaN          3723    False   \n",
      "1  319  Elbow injection            1  UMFEL USHIN          3717     True   \n",
      "\n",
      "                                    recommender_data          name_note  \n",
      "0  {\"topics_to_statements\": [], \"topic_features\":...                NaN  \n",
      "1  {\"topics_to_statements\": [], \"topic_features\":...  Billing code only  \n",
      "MERGED DF\n",
      "   id_x     status  template_id  accession_number  attempts  \\\n",
      "0    20  completed          100            512693         2   \n",
      "1    21  completed          100            512695         2   \n",
      "\n",
      "                      created_at  id_y   name  \n",
      "0  2022-06-06 12:28:27.883 +0930   100  Chest  \n",
      "1  2022-06-06 12:34:46.393 +0930   100  Chest  \n"
     ]
    }
   ],
   "source": [
    "import pandas as pd\n",
    "\n",
    "csv_file_path = \"/home/richard/Richard/RS_git/Image_sever_evaluation_project/job_202303291424.csv\"\n",
    "job_df = pd.read_csv(csv_file_path)\n",
    "#print_df_preview(job_df)\n",
    "print(\"JOB DF\")\n",
    "print(job_df.head(2))\n",
    "\n",
    "features_csv_file_path = \"/home/richard/Richard/RS_git/Image_sever_evaluation_project/_template__202303291642.csv\"\n",
    "features_df = pd.read_csv(features_csv_file_path)\n",
    "print(\"FEATURE DF\")\n",
    "print(features_df.head(2))\n",
    "\n",
    "job_merged_df = job_df.merge(features_df[['id', 'name']], left_on='template_id', right_on='id', how='left')\n",
    "\n",
    "print(\"MERGED DF\")\n",
    "print(job_merged_df.head(2))"
   ]
  }
 ],
 "metadata": {
  "kernelspec": {
   "display_name": "Python 3",
   "language": "python",
   "name": "python3"
  },
  "language_info": {
   "codemirror_mode": {
    "name": "ipython",
    "version": 3
   },
   "file_extension": ".py",
   "mimetype": "text/x-python",
   "name": "python",
   "nbconvert_exporter": "python",
   "pygments_lexer": "ipython3",
   "version": "3.10.6"
  },
  "orig_nbformat": 4
 },
 "nbformat": 4,
 "nbformat_minor": 2
}
